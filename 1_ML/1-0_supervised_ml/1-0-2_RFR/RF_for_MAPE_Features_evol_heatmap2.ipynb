{
 "cells": [
  {
   "cell_type": "code",
   "execution_count": 1,
   "metadata": {},
   "outputs": [],
   "source": [
    "import pandas as pd\n",
    "import numpy as np\n",
    "\n",
    "from sklearn.pipeline import Pipeline\n",
    "from sklearn.impute import SimpleImputer, KNNImputer\n",
    "from sklearn.preprocessing import  OneHotEncoder, StandardScaler, LabelEncoder, LabelBinarizer\n",
    "from sklearn.compose import ColumnTransformer\n",
    "from sklearn.ensemble import RandomForestRegressor\n",
    "from sklearn.model_selection import ParameterGrid\n",
    "from sklearn.metrics import mean_squared_error, mean_absolute_percentage_error, r2_score\n",
    "\n",
    "import matplotlib.pyplot as plt\n",
    "import plotly.express as px\n",
    "import plotly.graph_objects as go\n",
    "import plotly.io as pio\n",
    "import seaborn as sns\n",
    "\n",
    "import warnings\n",
    "warnings.filterwarnings(\"ignore\", category=DeprecationWarning) # to avoid deprecation warnings"
   ]
  },
  {
   "attachments": {},
   "cell_type": "markdown",
   "metadata": {},
   "source": [
    "# Dataset"
   ]
  },
  {
   "cell_type": "code",
   "execution_count": 2,
   "metadata": {},
   "outputs": [],
   "source": [
    "dataset = pd.read_csv(\"master_lag_ml_inversed_revu.csv\")"
   ]
  },
  {
   "cell_type": "code",
   "execution_count": 3,
   "metadata": {},
   "outputs": [
    {
     "name": "stdout",
     "output_type": "stream",
     "text": [
      "Number of rows : 39516\n",
      "Number of columns : 37\n",
      "\n",
      "Display of dataset: \n"
     ]
    },
    {
     "data": {
      "text/html": [
       "<div>\n",
       "<style scoped>\n",
       "    .dataframe tbody tr th:only-of-type {\n",
       "        vertical-align: middle;\n",
       "    }\n",
       "\n",
       "    .dataframe tbody tr th {\n",
       "        vertical-align: top;\n",
       "    }\n",
       "\n",
       "    .dataframe thead th {\n",
       "        text-align: right;\n",
       "    }\n",
       "</style>\n",
       "<table border=\"1\" class=\"dataframe\">\n",
       "  <thead>\n",
       "    <tr style=\"text-align: right;\">\n",
       "      <th></th>\n",
       "      <th>Date</th>\n",
       "      <th>code_region</th>\n",
       "      <th>Nom_region</th>\n",
       "      <th>Consommation (MW)</th>\n",
       "      <th>year</th>\n",
       "      <th>month</th>\n",
       "      <th>brent_price</th>\n",
       "      <th>TIME_PERIOD</th>\n",
       "      <th>prix_kwh_elec</th>\n",
       "      <th>prix_gaz</th>\n",
       "      <th>...</th>\n",
       "      <th>rolling_mean_7</th>\n",
       "      <th>rolling_mean_15</th>\n",
       "      <th>lag_364</th>\n",
       "      <th>lag_inversed_1</th>\n",
       "      <th>lag_inversed_2</th>\n",
       "      <th>lag_inversed_3</th>\n",
       "      <th>lag_inversed_4</th>\n",
       "      <th>lag_inversed_5</th>\n",
       "      <th>lag_inversed_6</th>\n",
       "      <th>lag_inversed_7</th>\n",
       "    </tr>\n",
       "  </thead>\n",
       "  <tbody>\n",
       "    <tr>\n",
       "      <th>0</th>\n",
       "      <td>2013-12-31</td>\n",
       "      <td>11</td>\n",
       "      <td>IDF</td>\n",
       "      <td>476296.0</td>\n",
       "      <td>2013</td>\n",
       "      <td>12</td>\n",
       "      <td>109.95</td>\n",
       "      <td>2013-01-01</td>\n",
       "      <td>0.1524</td>\n",
       "      <td>33.412419</td>\n",
       "      <td>...</td>\n",
       "      <td>446431.142857</td>\n",
       "      <td>467695.0</td>\n",
       "      <td>399392.0</td>\n",
       "      <td>424366.0</td>\n",
       "      <td>455574.0</td>\n",
       "      <td>450735.0</td>\n",
       "      <td>425674.0</td>\n",
       "      <td>431730.0</td>\n",
       "      <td>470656.0</td>\n",
       "      <td>466931.0</td>\n",
       "    </tr>\n",
       "    <tr>\n",
       "      <th>1</th>\n",
       "      <td>2014-01-01</td>\n",
       "      <td>11</td>\n",
       "      <td>IDF</td>\n",
       "      <td>424366.0</td>\n",
       "      <td>2014</td>\n",
       "      <td>1</td>\n",
       "      <td>NaN</td>\n",
       "      <td>2014-01-01</td>\n",
       "      <td>0.1585</td>\n",
       "      <td>29.812258</td>\n",
       "      <td>...</td>\n",
       "      <td>450683.571429</td>\n",
       "      <td>461028.2</td>\n",
       "      <td>492157.0</td>\n",
       "      <td>455574.0</td>\n",
       "      <td>450735.0</td>\n",
       "      <td>425674.0</td>\n",
       "      <td>431730.0</td>\n",
       "      <td>470656.0</td>\n",
       "      <td>466931.0</td>\n",
       "      <td>460424.0</td>\n",
       "    </tr>\n",
       "    <tr>\n",
       "      <th>2</th>\n",
       "      <td>2014-01-02</td>\n",
       "      <td>11</td>\n",
       "      <td>IDF</td>\n",
       "      <td>455574.0</td>\n",
       "      <td>2014</td>\n",
       "      <td>1</td>\n",
       "      <td>107.94</td>\n",
       "      <td>2014-01-01</td>\n",
       "      <td>0.1585</td>\n",
       "      <td>29.812258</td>\n",
       "      <td>...</td>\n",
       "      <td>450867.571429</td>\n",
       "      <td>457468.0</td>\n",
       "      <td>487111.0</td>\n",
       "      <td>450735.0</td>\n",
       "      <td>425674.0</td>\n",
       "      <td>431730.0</td>\n",
       "      <td>470656.0</td>\n",
       "      <td>466931.0</td>\n",
       "      <td>460424.0</td>\n",
       "      <td>469782.0</td>\n",
       "    </tr>\n",
       "    <tr>\n",
       "      <th>3</th>\n",
       "      <td>2014-01-03</td>\n",
       "      <td>11</td>\n",
       "      <td>IDF</td>\n",
       "      <td>450735.0</td>\n",
       "      <td>2014</td>\n",
       "      <td>1</td>\n",
       "      <td>106.57</td>\n",
       "      <td>2014-01-01</td>\n",
       "      <td>0.1585</td>\n",
       "      <td>29.812258</td>\n",
       "      <td>...</td>\n",
       "      <td>449652.000000</td>\n",
       "      <td>454167.8</td>\n",
       "      <td>470053.0</td>\n",
       "      <td>425674.0</td>\n",
       "      <td>431730.0</td>\n",
       "      <td>470656.0</td>\n",
       "      <td>466931.0</td>\n",
       "      <td>460424.0</td>\n",
       "      <td>469782.0</td>\n",
       "      <td>494143.0</td>\n",
       "    </tr>\n",
       "    <tr>\n",
       "      <th>4</th>\n",
       "      <td>2014-01-04</td>\n",
       "      <td>11</td>\n",
       "      <td>IDF</td>\n",
       "      <td>425674.0</td>\n",
       "      <td>2014</td>\n",
       "      <td>1</td>\n",
       "      <td>NaN</td>\n",
       "      <td>2014-01-01</td>\n",
       "      <td>0.1585</td>\n",
       "      <td>29.812258</td>\n",
       "      <td>...</td>\n",
       "      <td>450649.571429</td>\n",
       "      <td>448541.0</td>\n",
       "      <td>433732.0</td>\n",
       "      <td>431730.0</td>\n",
       "      <td>470656.0</td>\n",
       "      <td>466931.0</td>\n",
       "      <td>460424.0</td>\n",
       "      <td>469782.0</td>\n",
       "      <td>494143.0</td>\n",
       "      <td>454352.0</td>\n",
       "    </tr>\n",
       "  </tbody>\n",
       "</table>\n",
       "<p>5 rows × 37 columns</p>\n",
       "</div>"
      ],
      "text/plain": [
       "         Date  code_region Nom_region  Consommation (MW)  year  month  \\\n",
       "0  2013-12-31           11        IDF           476296.0  2013     12   \n",
       "1  2014-01-01           11        IDF           424366.0  2014      1   \n",
       "2  2014-01-02           11        IDF           455574.0  2014      1   \n",
       "3  2014-01-03           11        IDF           450735.0  2014      1   \n",
       "4  2014-01-04           11        IDF           425674.0  2014      1   \n",
       "\n",
       "   brent_price TIME_PERIOD  prix_kwh_elec   prix_gaz  ...  rolling_mean_7  \\\n",
       "0       109.95  2013-01-01         0.1524  33.412419  ...   446431.142857   \n",
       "1          NaN  2014-01-01         0.1585  29.812258  ...   450683.571429   \n",
       "2       107.94  2014-01-01         0.1585  29.812258  ...   450867.571429   \n",
       "3       106.57  2014-01-01         0.1585  29.812258  ...   449652.000000   \n",
       "4          NaN  2014-01-01         0.1585  29.812258  ...   450649.571429   \n",
       "\n",
       "   rolling_mean_15   lag_364  lag_inversed_1  lag_inversed_2  lag_inversed_3  \\\n",
       "0         467695.0  399392.0        424366.0        455574.0        450735.0   \n",
       "1         461028.2  492157.0        455574.0        450735.0        425674.0   \n",
       "2         457468.0  487111.0        450735.0        425674.0        431730.0   \n",
       "3         454167.8  470053.0        425674.0        431730.0        470656.0   \n",
       "4         448541.0  433732.0        431730.0        470656.0        466931.0   \n",
       "\n",
       "   lag_inversed_4  lag_inversed_5  lag_inversed_6  lag_inversed_7  \n",
       "0        425674.0        431730.0        470656.0        466931.0  \n",
       "1        431730.0        470656.0        466931.0        460424.0  \n",
       "2        470656.0        466931.0        460424.0        469782.0  \n",
       "3        466931.0        460424.0        469782.0        494143.0  \n",
       "4        460424.0        469782.0        494143.0        454352.0  \n",
       "\n",
       "[5 rows x 37 columns]"
      ]
     },
     "metadata": {},
     "output_type": "display_data"
    },
    {
     "name": "stdout",
     "output_type": "stream",
     "text": [
      "\n"
     ]
    }
   ],
   "source": [
    "print(\"Number of rows : {}\".format(dataset.shape[0]))\n",
    "print(\"Number of columns : {}\".format(dataset.shape[1]))\n",
    "print()\n",
    "\n",
    "print(\"Display of dataset: \")\n",
    "display(dataset.head())\n",
    "print()"
   ]
  },
  {
   "cell_type": "code",
   "execution_count": 4,
   "metadata": {},
   "outputs": [
    {
     "data": {
      "text/plain": [
       "Index(['Date', 'code_region', 'Nom_region', 'Consommation (MW)', 'year',\n",
       "       'month', 'brent_price', 'TIME_PERIOD', 'prix_kwh_elec', 'prix_gaz',\n",
       "       'day', 'day_of_week', 'lag_1', 'lag_2', 'lag_3', 'lag_4', 'lag_5',\n",
       "       'lag_6', 'lag_7', 'lag_8', 'lag_9', 'lag_10', 'lag_11', 'lag_12',\n",
       "       'lag_13', 'lag_14', 'lag_15', 'rolling_mean_7', 'rolling_mean_15',\n",
       "       'lag_364', 'lag_inversed_1', 'lag_inversed_2', 'lag_inversed_3',\n",
       "       'lag_inversed_4', 'lag_inversed_5', 'lag_inversed_6', 'lag_inversed_7'],\n",
       "      dtype='object')"
      ]
     },
     "execution_count": 4,
     "metadata": {},
     "output_type": "execute_result"
    }
   ],
   "source": [
    "dataset.columns"
   ]
  },
  {
   "attachments": {},
   "cell_type": "markdown",
   "metadata": {},
   "source": [
    "# Train test split"
   ]
  },
  {
   "cell_type": "code",
   "execution_count": 5,
   "metadata": {},
   "outputs": [
    {
     "name": "stdout",
     "output_type": "stream",
     "text": [
      "Dividing into train and test sets...\n"
     ]
    }
   ],
   "source": [
    "# Divide dataset Train set & Test set \n",
    "print(\"Dividing into train and test sets...\")\n",
    "\n",
    "split_date = '2021-01-01'\n",
    "train = dataset.loc[dataset['Date'] <= split_date].copy()\n",
    "test = dataset.loc[dataset['Date'] > split_date].copy()"
   ]
  },
  {
   "cell_type": "code",
   "execution_count": 6,
   "metadata": {},
   "outputs": [
    {
     "name": "stdout",
     "output_type": "stream",
     "text": [
      "Number of rows : 8808\n",
      "Number of columns : 37\n"
     ]
    }
   ],
   "source": [
    "print(\"Number of rows : {}\".format(test.shape[0]))\n",
    "print(\"Number of columns : {}\".format(test.shape[1]))"
   ]
  },
  {
   "attachments": {},
   "cell_type": "markdown",
   "metadata": {},
   "source": [
    "# Features"
   ]
  },
  {
   "cell_type": "code",
   "execution_count": 7,
   "metadata": {},
   "outputs": [
    {
     "name": "stdout",
     "output_type": "stream",
     "text": [
      "Separating labels from features...\n"
     ]
    }
   ],
   "source": [
    "# Separate target variable Y from features X\n",
    "print(\"Separating labels from features...\")\n",
    "features_list = [\n",
    "                'Nom_region'\n",
    "                ,'lag_1' \n",
    "                ,'lag_2' \n",
    "                ,'lag_3' \n",
    "                ,'lag_4' \n",
    "                ,'lag_5' \n",
    "                ,'lag_6' \n",
    "                ,'lag_7' \n",
    "                ,'lag_8','lag_9', 'lag_10', 'lag_11', 'lag_12', 'lag_13', 'lag_14', 'lag_15', 'lag_364'\n",
    "                , 'rolling_mean_7', 'rolling_mean_15'\n",
    "                #, 'temp_max', 'temp_min', 'hours_of_sun', 'precipitation', 'windspeed' \n",
    "                #, 'prix_kwh_elec', 'prix_gaz', 'brent_price'\n",
    "                , 'day', 'year', 'month', 'day_of_week'\n",
    "                ]\n",
    "\n",
    "\n",
    "X_train = train.loc[:,features_list]\n",
    "X_test = test.loc[:,features_list]\n"
   ]
  },
  {
   "attachments": {},
   "cell_type": "markdown",
   "metadata": {},
   "source": [
    "# Preprocessing"
   ]
  },
  {
   "cell_type": "code",
   "execution_count": 8,
   "metadata": {},
   "outputs": [],
   "source": [
    "# Soit à la main : \n",
    "numeric_features = [\n",
    "                'lag_1', \n",
    "                'lag_2', \n",
    "                'lag_3', \n",
    "                'lag_4', \n",
    "                'lag_5', \n",
    "                'lag_6', \n",
    "                'lag_7', \n",
    "                'lag_8','lag_9', 'lag_10', 'lag_11', 'lag_12', 'lag_13', 'lag_14', 'lag_15', 'lag_364'\n",
    "                , 'rolling_mean_7', 'rolling_mean_15'\n",
    "                #'temp_max', 'temp_min', 'hours_of_sun', 'precipitation', 'windspeed' \n",
    "                #, 'prix_kwh_elec', 'prix_gaz', 'brent_price'\n",
    "                , 'year'\n",
    "                    ]\n",
    "categorical_features = ['Nom_region', 'day_of_week', 'day', 'month']"
   ]
  },
  {
   "cell_type": "code",
   "execution_count": 9,
   "metadata": {},
   "outputs": [],
   "source": [
    "# Create pipeline for numeric features\n",
    "numeric_transformer = Pipeline(steps=[\n",
    "    ('imputer', KNNImputer(n_neighbors=1)),\n",
    "    ('scaler', StandardScaler()) \n",
    "])"
   ]
  },
  {
   "cell_type": "code",
   "execution_count": 10,
   "metadata": {},
   "outputs": [],
   "source": [
    "# Create pipeline for categorical features\n",
    "categorical_transformer = Pipeline(\n",
    "    steps=[\n",
    "    #('imputer', KNNImputer(n_neighbors=1)),\n",
    "    ('encoder', OneHotEncoder(drop='first'))\n",
    "    ])"
   ]
  },
  {
   "cell_type": "code",
   "execution_count": 11,
   "metadata": {},
   "outputs": [],
   "source": [
    "# Use ColumnTransformer to make a preprocessor object that describes all the treatments to be done\n",
    "preprocessor = ColumnTransformer(\n",
    "    transformers=[\n",
    "        ('num', numeric_transformer, numeric_features),\n",
    "        ('cat', categorical_transformer, categorical_features)\n",
    "    ])"
   ]
  },
  {
   "cell_type": "code",
   "execution_count": 12,
   "metadata": {},
   "outputs": [
    {
     "name": "stdout",
     "output_type": "stream",
     "text": [
      "Performing preprocessings on train set...\n",
      "...Done.\n",
      "\n",
      "Performing preprocessings on test set...\n",
      "...Done.\n",
      "\n"
     ]
    }
   ],
   "source": [
    "# Preprocessings on train set\n",
    "print(\"Performing preprocessings on train set...\")\n",
    "X_train = preprocessor.fit_transform(X_train)\n",
    "print('...Done.')\n",
    "print()\n",
    "\n",
    "# Preprocessings on test set\n",
    "print(\"Performing preprocessings on test set...\")\n",
    "X_test = preprocessor.transform(X_test) # Don't fit again !!\n",
    "print('...Done.')\n",
    "print()"
   ]
  },
  {
   "attachments": {},
   "cell_type": "markdown",
   "metadata": {},
   "source": [
    "# Model"
   ]
  },
  {
   "cell_type": "code",
   "execution_count": 13,
   "metadata": {},
   "outputs": [],
   "source": [
    "rfr = RandomForestRegressor(random_state=0, n_jobs=-1)\n",
    "\n",
    "scores_df = pd.DataFrame(columns = ['Target','MAPE'])\n",
    "feature_importance = pd.DataFrame(columns = ['Target','Feature','Coefficients'])"
   ]
  },
  {
   "cell_type": "code",
   "execution_count": 14,
   "metadata": {},
   "outputs": [
    {
     "name": "stderr",
     "output_type": "stream",
     "text": [
      "/var/folders/s_/w6_83rld7j57m68qjllqlm6h0000gn/T/ipykernel_49793/2880147381.py:11: FutureWarning: The frame.append method is deprecated and will be removed from pandas in a future version. Use pandas.concat instead.\n",
      "  scores_df = scores_df.append({\n",
      "/var/folders/s_/w6_83rld7j57m68qjllqlm6h0000gn/T/ipykernel_49793/2880147381.py:31: FutureWarning: The frame.append method is deprecated and will be removed from pandas in a future version. Use pandas.concat instead.\n",
      "  feature_importance = feature_importance.append(coefs_2)\n",
      "/var/folders/s_/w6_83rld7j57m68qjllqlm6h0000gn/T/ipykernel_49793/2880147381.py:11: FutureWarning: The frame.append method is deprecated and will be removed from pandas in a future version. Use pandas.concat instead.\n",
      "  scores_df = scores_df.append({\n",
      "/var/folders/s_/w6_83rld7j57m68qjllqlm6h0000gn/T/ipykernel_49793/2880147381.py:31: FutureWarning: The frame.append method is deprecated and will be removed from pandas in a future version. Use pandas.concat instead.\n",
      "  feature_importance = feature_importance.append(coefs_2)\n",
      "/var/folders/s_/w6_83rld7j57m68qjllqlm6h0000gn/T/ipykernel_49793/2880147381.py:11: FutureWarning: The frame.append method is deprecated and will be removed from pandas in a future version. Use pandas.concat instead.\n",
      "  scores_df = scores_df.append({\n",
      "/var/folders/s_/w6_83rld7j57m68qjllqlm6h0000gn/T/ipykernel_49793/2880147381.py:31: FutureWarning: The frame.append method is deprecated and will be removed from pandas in a future version. Use pandas.concat instead.\n",
      "  feature_importance = feature_importance.append(coefs_2)\n",
      "/var/folders/s_/w6_83rld7j57m68qjllqlm6h0000gn/T/ipykernel_49793/2880147381.py:11: FutureWarning: The frame.append method is deprecated and will be removed from pandas in a future version. Use pandas.concat instead.\n",
      "  scores_df = scores_df.append({\n",
      "/var/folders/s_/w6_83rld7j57m68qjllqlm6h0000gn/T/ipykernel_49793/2880147381.py:31: FutureWarning: The frame.append method is deprecated and will be removed from pandas in a future version. Use pandas.concat instead.\n",
      "  feature_importance = feature_importance.append(coefs_2)\n",
      "/var/folders/s_/w6_83rld7j57m68qjllqlm6h0000gn/T/ipykernel_49793/2880147381.py:11: FutureWarning: The frame.append method is deprecated and will be removed from pandas in a future version. Use pandas.concat instead.\n",
      "  scores_df = scores_df.append({\n",
      "/var/folders/s_/w6_83rld7j57m68qjllqlm6h0000gn/T/ipykernel_49793/2880147381.py:31: FutureWarning: The frame.append method is deprecated and will be removed from pandas in a future version. Use pandas.concat instead.\n",
      "  feature_importance = feature_importance.append(coefs_2)\n",
      "/var/folders/s_/w6_83rld7j57m68qjllqlm6h0000gn/T/ipykernel_49793/2880147381.py:11: FutureWarning: The frame.append method is deprecated and will be removed from pandas in a future version. Use pandas.concat instead.\n",
      "  scores_df = scores_df.append({\n",
      "/var/folders/s_/w6_83rld7j57m68qjllqlm6h0000gn/T/ipykernel_49793/2880147381.py:31: FutureWarning: The frame.append method is deprecated and will be removed from pandas in a future version. Use pandas.concat instead.\n",
      "  feature_importance = feature_importance.append(coefs_2)\n",
      "/var/folders/s_/w6_83rld7j57m68qjllqlm6h0000gn/T/ipykernel_49793/2880147381.py:11: FutureWarning: The frame.append method is deprecated and will be removed from pandas in a future version. Use pandas.concat instead.\n",
      "  scores_df = scores_df.append({\n",
      "/var/folders/s_/w6_83rld7j57m68qjllqlm6h0000gn/T/ipykernel_49793/2880147381.py:31: FutureWarning: The frame.append method is deprecated and will be removed from pandas in a future version. Use pandas.concat instead.\n",
      "  feature_importance = feature_importance.append(coefs_2)\n"
     ]
    }
   ],
   "source": [
    "for i in range(1,8):\n",
    "    target_variable = ['lag_inversed_' + str(i)]\n",
    "\n",
    "    y_train = train.loc[:,target_variable]\n",
    "    y_test = test.loc[:,target_variable]\n",
    "\n",
    "    rfr.fit(X_train, y_train.values.ravel())\n",
    "\n",
    "    y_test_pred = rfr.predict(X_test)\n",
    "\n",
    "    scores_df = scores_df.append({\n",
    "                                'Target': 'D+' + str(i),\n",
    "                                'MAPE': mean_absolute_percentage_error(y_test, y_test_pred)\n",
    "                                }, \n",
    "                                ignore_index = True)\n",
    "\n",
    "    column_names = []\n",
    "    for name, pipeline, features_list in preprocessor.transformers_: # loop over pipelines\n",
    "        if name == 'num': # if pipeline is for numeric variables\n",
    "            features = features_list # just get the names of columns to which it has been applied\n",
    "        else: # if pipeline is for categorical variables\n",
    "            features = pipeline.named_steps['encoder'].get_feature_names_out(categorical_features) # get output columns names from OneHotEncoder\n",
    "        column_names.extend(features) # concatenate features names\n",
    "\n",
    "    feat_imp = rfr.feature_importances_.transpose()\n",
    "    coefs = pd.DataFrame(data = {'Feature': column_names, 'Coefficients': abs(feat_imp)})\n",
    "    coefs['Target'] = coefs.apply(lambda x: 'D+' + str(i), axis=1)\n",
    "\n",
    "    coefs_2 = coefs.sort_values(by = ['Target','Coefficients'], ascending=False).head(2)\n",
    "    coefs_2.reset_index(drop=True, inplace=True)\n",
    "    feature_importance = feature_importance.append(coefs_2)\n",
    "    #feature_importance = feature_importance.append(coefs.sort_values(by = ['Target','Coefficients'], ascending=False).head(2))\n",
    "\n"
   ]
  },
  {
   "attachments": {},
   "cell_type": "markdown",
   "metadata": {},
   "source": [
    "# MAPE and Feature importance"
   ]
  },
  {
   "cell_type": "code",
   "execution_count": 15,
   "metadata": {},
   "outputs": [
    {
     "data": {
      "text/html": [
       "<div>\n",
       "<style scoped>\n",
       "    .dataframe tbody tr th:only-of-type {\n",
       "        vertical-align: middle;\n",
       "    }\n",
       "\n",
       "    .dataframe tbody tr th {\n",
       "        vertical-align: top;\n",
       "    }\n",
       "\n",
       "    .dataframe thead th {\n",
       "        text-align: right;\n",
       "    }\n",
       "</style>\n",
       "<table border=\"1\" class=\"dataframe\">\n",
       "  <thead>\n",
       "    <tr style=\"text-align: right;\">\n",
       "      <th></th>\n",
       "      <th>Target</th>\n",
       "      <th>MAPE</th>\n",
       "      <th>MAPE %</th>\n",
       "    </tr>\n",
       "  </thead>\n",
       "  <tbody>\n",
       "    <tr>\n",
       "      <th>0</th>\n",
       "      <td>D+1</td>\n",
       "      <td>0.060964</td>\n",
       "      <td>6.10</td>\n",
       "    </tr>\n",
       "    <tr>\n",
       "      <th>1</th>\n",
       "      <td>D+2</td>\n",
       "      <td>0.070417</td>\n",
       "      <td>7.04</td>\n",
       "    </tr>\n",
       "    <tr>\n",
       "      <th>2</th>\n",
       "      <td>D+3</td>\n",
       "      <td>0.077094</td>\n",
       "      <td>7.71</td>\n",
       "    </tr>\n",
       "    <tr>\n",
       "      <th>3</th>\n",
       "      <td>D+4</td>\n",
       "      <td>0.081244</td>\n",
       "      <td>8.12</td>\n",
       "    </tr>\n",
       "    <tr>\n",
       "      <th>4</th>\n",
       "      <td>D+5</td>\n",
       "      <td>0.082394</td>\n",
       "      <td>8.24</td>\n",
       "    </tr>\n",
       "    <tr>\n",
       "      <th>5</th>\n",
       "      <td>D+6</td>\n",
       "      <td>0.085637</td>\n",
       "      <td>8.56</td>\n",
       "    </tr>\n",
       "    <tr>\n",
       "      <th>6</th>\n",
       "      <td>D+7</td>\n",
       "      <td>0.089900</td>\n",
       "      <td>8.99</td>\n",
       "    </tr>\n",
       "  </tbody>\n",
       "</table>\n",
       "</div>"
      ],
      "text/plain": [
       "  Target      MAPE  MAPE %\n",
       "0    D+1  0.060964    6.10\n",
       "1    D+2  0.070417    7.04\n",
       "2    D+3  0.077094    7.71\n",
       "3    D+4  0.081244    8.12\n",
       "4    D+5  0.082394    8.24\n",
       "5    D+6  0.085637    8.56\n",
       "6    D+7  0.089900    8.99"
      ]
     },
     "metadata": {},
     "output_type": "display_data"
    }
   ],
   "source": [
    "scores_df['MAPE %'] = round((scores_df['MAPE']*100),2)\n",
    "display(scores_df)"
   ]
  },
  {
   "cell_type": "code",
   "execution_count": 16,
   "metadata": {},
   "outputs": [
    {
     "data": {
      "text/html": [
       "<div>\n",
       "<style scoped>\n",
       "    .dataframe tbody tr th:only-of-type {\n",
       "        vertical-align: middle;\n",
       "    }\n",
       "\n",
       "    .dataframe tbody tr th {\n",
       "        vertical-align: top;\n",
       "    }\n",
       "\n",
       "    .dataframe thead th {\n",
       "        text-align: right;\n",
       "    }\n",
       "</style>\n",
       "<table border=\"1\" class=\"dataframe\">\n",
       "  <thead>\n",
       "    <tr style=\"text-align: right;\">\n",
       "      <th></th>\n",
       "      <th>Target</th>\n",
       "      <th>Feature</th>\n",
       "      <th>Coefficients</th>\n",
       "    </tr>\n",
       "  </thead>\n",
       "  <tbody>\n",
       "    <tr>\n",
       "      <th>0</th>\n",
       "      <td>D+1</td>\n",
       "      <td>rolling_mean_7</td>\n",
       "      <td>0.935270</td>\n",
       "    </tr>\n",
       "    <tr>\n",
       "      <th>1</th>\n",
       "      <td>D+2</td>\n",
       "      <td>rolling_mean_7</td>\n",
       "      <td>0.884826</td>\n",
       "    </tr>\n",
       "    <tr>\n",
       "      <th>2</th>\n",
       "      <td>D+3</td>\n",
       "      <td>lag_4</td>\n",
       "      <td>0.708393</td>\n",
       "    </tr>\n",
       "    <tr>\n",
       "      <th>3</th>\n",
       "      <td>D+3</td>\n",
       "      <td>rolling_mean_7</td>\n",
       "      <td>0.254618</td>\n",
       "    </tr>\n",
       "    <tr>\n",
       "      <th>4</th>\n",
       "      <td>D+4</td>\n",
       "      <td>lag_3</td>\n",
       "      <td>0.895162</td>\n",
       "    </tr>\n",
       "    <tr>\n",
       "      <th>5</th>\n",
       "      <td>D+4</td>\n",
       "      <td>rolling_mean_7</td>\n",
       "      <td>0.064806</td>\n",
       "    </tr>\n",
       "    <tr>\n",
       "      <th>6</th>\n",
       "      <td>D+5</td>\n",
       "      <td>lag_2</td>\n",
       "      <td>0.946425</td>\n",
       "    </tr>\n",
       "    <tr>\n",
       "      <th>7</th>\n",
       "      <td>D+5</td>\n",
       "      <td>rolling_mean_7</td>\n",
       "      <td>0.010926</td>\n",
       "    </tr>\n",
       "    <tr>\n",
       "      <th>8</th>\n",
       "      <td>D+6</td>\n",
       "      <td>lag_1</td>\n",
       "      <td>0.953053</td>\n",
       "    </tr>\n",
       "    <tr>\n",
       "      <th>9</th>\n",
       "      <td>D+7</td>\n",
       "      <td>rolling_mean_7</td>\n",
       "      <td>0.787599</td>\n",
       "    </tr>\n",
       "  </tbody>\n",
       "</table>\n",
       "</div>"
      ],
      "text/plain": [
       "  Target         Feature  Coefficients\n",
       "0    D+1  rolling_mean_7      0.935270\n",
       "1    D+2  rolling_mean_7      0.884826\n",
       "2    D+3           lag_4      0.708393\n",
       "3    D+3  rolling_mean_7      0.254618\n",
       "4    D+4           lag_3      0.895162\n",
       "5    D+4  rolling_mean_7      0.064806\n",
       "6    D+5           lag_2      0.946425\n",
       "7    D+5  rolling_mean_7      0.010926\n",
       "8    D+6           lag_1      0.953053\n",
       "9    D+7  rolling_mean_7      0.787599"
      ]
     },
     "metadata": {},
     "output_type": "display_data"
    }
   ],
   "source": [
    "#Remove the least important features\n",
    "feature_importance = feature_importance[(feature_importance['Feature'] != 'lag_5')\n",
    "                                        & (feature_importance['Feature'] != 'lag_6')\n",
    "                                        & (feature_importance['Feature'] != 'lag_364')\n",
    "                                        & (feature_importance['Feature'] != 'rolling_mean_15')]\n",
    "feature_importance.reset_index(drop=True, inplace=True)\n",
    "display(feature_importance)"
   ]
  },
  {
   "attachments": {},
   "cell_type": "markdown",
   "metadata": {},
   "source": [
    "## Graphs"
   ]
  },
  {
   "cell_type": "code",
   "execution_count": 31,
   "metadata": {},
   "outputs": [
    {
     "data": {
      "application/vnd.plotly.v1+json": {
       "config": {
        "plotlyServerURL": "https://plot.ly"
       },
       "data": [
        {
         "alignmentgroup": "True",
         "hovertemplate": "MAPE %=%{x}<br>Target=%{y}<br>text=%{text}<extra></extra>",
         "legendgroup": "",
         "marker": {
          "color": "#1F77B4",
          "pattern": {
           "shape": ""
          }
         },
         "name": "",
         "offsetgroup": "",
         "orientation": "h",
         "showlegend": false,
         "text": [
          "6.1%",
          "7.0%",
          "7.7%",
          "8.1%",
          "8.2%",
          "8.6%",
          "9.0%"
         ],
         "textfont": {
          "size": 20
         },
         "textposition": "auto",
         "type": "bar",
         "x": [
          6.1,
          7.04,
          7.71,
          8.12,
          8.24,
          8.56,
          8.99
         ],
         "xaxis": "x",
         "y": [
          "D+1",
          "D+2",
          "D+3",
          "D+4",
          "D+5",
          "D+6",
          "D+7"
         ],
         "yaxis": "y"
        }
       ],
       "layout": {
        "barmode": "relative",
        "font": {
         "size": 20
        },
        "height": 600,
        "legend": {
         "tracegroupgap": 0
        },
        "template": {
         "data": {
          "bar": [
           {
            "error_x": {
             "color": "rgb(36,36,36)"
            },
            "error_y": {
             "color": "rgb(36,36,36)"
            },
            "marker": {
             "line": {
              "color": "white",
              "width": 0.5
             },
             "pattern": {
              "fillmode": "overlay",
              "size": 10,
              "solidity": 0.2
             }
            },
            "type": "bar"
           }
          ],
          "barpolar": [
           {
            "marker": {
             "line": {
              "color": "white",
              "width": 0.5
             },
             "pattern": {
              "fillmode": "overlay",
              "size": 10,
              "solidity": 0.2
             }
            },
            "type": "barpolar"
           }
          ],
          "carpet": [
           {
            "aaxis": {
             "endlinecolor": "rgb(36,36,36)",
             "gridcolor": "white",
             "linecolor": "white",
             "minorgridcolor": "white",
             "startlinecolor": "rgb(36,36,36)"
            },
            "baxis": {
             "endlinecolor": "rgb(36,36,36)",
             "gridcolor": "white",
             "linecolor": "white",
             "minorgridcolor": "white",
             "startlinecolor": "rgb(36,36,36)"
            },
            "type": "carpet"
           }
          ],
          "choropleth": [
           {
            "colorbar": {
             "outlinewidth": 1,
             "tickcolor": "rgb(36,36,36)",
             "ticks": "outside"
            },
            "type": "choropleth"
           }
          ],
          "contour": [
           {
            "colorbar": {
             "outlinewidth": 1,
             "tickcolor": "rgb(36,36,36)",
             "ticks": "outside"
            },
            "colorscale": [
             [
              0,
              "#440154"
             ],
             [
              0.1111111111111111,
              "#482878"
             ],
             [
              0.2222222222222222,
              "#3e4989"
             ],
             [
              0.3333333333333333,
              "#31688e"
             ],
             [
              0.4444444444444444,
              "#26828e"
             ],
             [
              0.5555555555555556,
              "#1f9e89"
             ],
             [
              0.6666666666666666,
              "#35b779"
             ],
             [
              0.7777777777777778,
              "#6ece58"
             ],
             [
              0.8888888888888888,
              "#b5de2b"
             ],
             [
              1,
              "#fde725"
             ]
            ],
            "type": "contour"
           }
          ],
          "contourcarpet": [
           {
            "colorbar": {
             "outlinewidth": 1,
             "tickcolor": "rgb(36,36,36)",
             "ticks": "outside"
            },
            "type": "contourcarpet"
           }
          ],
          "heatmap": [
           {
            "colorbar": {
             "outlinewidth": 1,
             "tickcolor": "rgb(36,36,36)",
             "ticks": "outside"
            },
            "colorscale": [
             [
              0,
              "#440154"
             ],
             [
              0.1111111111111111,
              "#482878"
             ],
             [
              0.2222222222222222,
              "#3e4989"
             ],
             [
              0.3333333333333333,
              "#31688e"
             ],
             [
              0.4444444444444444,
              "#26828e"
             ],
             [
              0.5555555555555556,
              "#1f9e89"
             ],
             [
              0.6666666666666666,
              "#35b779"
             ],
             [
              0.7777777777777778,
              "#6ece58"
             ],
             [
              0.8888888888888888,
              "#b5de2b"
             ],
             [
              1,
              "#fde725"
             ]
            ],
            "type": "heatmap"
           }
          ],
          "heatmapgl": [
           {
            "colorbar": {
             "outlinewidth": 1,
             "tickcolor": "rgb(36,36,36)",
             "ticks": "outside"
            },
            "colorscale": [
             [
              0,
              "#440154"
             ],
             [
              0.1111111111111111,
              "#482878"
             ],
             [
              0.2222222222222222,
              "#3e4989"
             ],
             [
              0.3333333333333333,
              "#31688e"
             ],
             [
              0.4444444444444444,
              "#26828e"
             ],
             [
              0.5555555555555556,
              "#1f9e89"
             ],
             [
              0.6666666666666666,
              "#35b779"
             ],
             [
              0.7777777777777778,
              "#6ece58"
             ],
             [
              0.8888888888888888,
              "#b5de2b"
             ],
             [
              1,
              "#fde725"
             ]
            ],
            "type": "heatmapgl"
           }
          ],
          "histogram": [
           {
            "marker": {
             "line": {
              "color": "white",
              "width": 0.6
             }
            },
            "type": "histogram"
           }
          ],
          "histogram2d": [
           {
            "colorbar": {
             "outlinewidth": 1,
             "tickcolor": "rgb(36,36,36)",
             "ticks": "outside"
            },
            "colorscale": [
             [
              0,
              "#440154"
             ],
             [
              0.1111111111111111,
              "#482878"
             ],
             [
              0.2222222222222222,
              "#3e4989"
             ],
             [
              0.3333333333333333,
              "#31688e"
             ],
             [
              0.4444444444444444,
              "#26828e"
             ],
             [
              0.5555555555555556,
              "#1f9e89"
             ],
             [
              0.6666666666666666,
              "#35b779"
             ],
             [
              0.7777777777777778,
              "#6ece58"
             ],
             [
              0.8888888888888888,
              "#b5de2b"
             ],
             [
              1,
              "#fde725"
             ]
            ],
            "type": "histogram2d"
           }
          ],
          "histogram2dcontour": [
           {
            "colorbar": {
             "outlinewidth": 1,
             "tickcolor": "rgb(36,36,36)",
             "ticks": "outside"
            },
            "colorscale": [
             [
              0,
              "#440154"
             ],
             [
              0.1111111111111111,
              "#482878"
             ],
             [
              0.2222222222222222,
              "#3e4989"
             ],
             [
              0.3333333333333333,
              "#31688e"
             ],
             [
              0.4444444444444444,
              "#26828e"
             ],
             [
              0.5555555555555556,
              "#1f9e89"
             ],
             [
              0.6666666666666666,
              "#35b779"
             ],
             [
              0.7777777777777778,
              "#6ece58"
             ],
             [
              0.8888888888888888,
              "#b5de2b"
             ],
             [
              1,
              "#fde725"
             ]
            ],
            "type": "histogram2dcontour"
           }
          ],
          "mesh3d": [
           {
            "colorbar": {
             "outlinewidth": 1,
             "tickcolor": "rgb(36,36,36)",
             "ticks": "outside"
            },
            "type": "mesh3d"
           }
          ],
          "parcoords": [
           {
            "line": {
             "colorbar": {
              "outlinewidth": 1,
              "tickcolor": "rgb(36,36,36)",
              "ticks": "outside"
             }
            },
            "type": "parcoords"
           }
          ],
          "pie": [
           {
            "automargin": true,
            "type": "pie"
           }
          ],
          "scatter": [
           {
            "fillpattern": {
             "fillmode": "overlay",
             "size": 10,
             "solidity": 0.2
            },
            "type": "scatter"
           }
          ],
          "scatter3d": [
           {
            "line": {
             "colorbar": {
              "outlinewidth": 1,
              "tickcolor": "rgb(36,36,36)",
              "ticks": "outside"
             }
            },
            "marker": {
             "colorbar": {
              "outlinewidth": 1,
              "tickcolor": "rgb(36,36,36)",
              "ticks": "outside"
             }
            },
            "type": "scatter3d"
           }
          ],
          "scattercarpet": [
           {
            "marker": {
             "colorbar": {
              "outlinewidth": 1,
              "tickcolor": "rgb(36,36,36)",
              "ticks": "outside"
             }
            },
            "type": "scattercarpet"
           }
          ],
          "scattergeo": [
           {
            "marker": {
             "colorbar": {
              "outlinewidth": 1,
              "tickcolor": "rgb(36,36,36)",
              "ticks": "outside"
             }
            },
            "type": "scattergeo"
           }
          ],
          "scattergl": [
           {
            "marker": {
             "colorbar": {
              "outlinewidth": 1,
              "tickcolor": "rgb(36,36,36)",
              "ticks": "outside"
             }
            },
            "type": "scattergl"
           }
          ],
          "scattermapbox": [
           {
            "marker": {
             "colorbar": {
              "outlinewidth": 1,
              "tickcolor": "rgb(36,36,36)",
              "ticks": "outside"
             }
            },
            "type": "scattermapbox"
           }
          ],
          "scatterpolar": [
           {
            "marker": {
             "colorbar": {
              "outlinewidth": 1,
              "tickcolor": "rgb(36,36,36)",
              "ticks": "outside"
             }
            },
            "type": "scatterpolar"
           }
          ],
          "scatterpolargl": [
           {
            "marker": {
             "colorbar": {
              "outlinewidth": 1,
              "tickcolor": "rgb(36,36,36)",
              "ticks": "outside"
             }
            },
            "type": "scatterpolargl"
           }
          ],
          "scatterternary": [
           {
            "marker": {
             "colorbar": {
              "outlinewidth": 1,
              "tickcolor": "rgb(36,36,36)",
              "ticks": "outside"
             }
            },
            "type": "scatterternary"
           }
          ],
          "surface": [
           {
            "colorbar": {
             "outlinewidth": 1,
             "tickcolor": "rgb(36,36,36)",
             "ticks": "outside"
            },
            "colorscale": [
             [
              0,
              "#440154"
             ],
             [
              0.1111111111111111,
              "#482878"
             ],
             [
              0.2222222222222222,
              "#3e4989"
             ],
             [
              0.3333333333333333,
              "#31688e"
             ],
             [
              0.4444444444444444,
              "#26828e"
             ],
             [
              0.5555555555555556,
              "#1f9e89"
             ],
             [
              0.6666666666666666,
              "#35b779"
             ],
             [
              0.7777777777777778,
              "#6ece58"
             ],
             [
              0.8888888888888888,
              "#b5de2b"
             ],
             [
              1,
              "#fde725"
             ]
            ],
            "type": "surface"
           }
          ],
          "table": [
           {
            "cells": {
             "fill": {
              "color": "rgb(237,237,237)"
             },
             "line": {
              "color": "white"
             }
            },
            "header": {
             "fill": {
              "color": "rgb(217,217,217)"
             },
             "line": {
              "color": "white"
             }
            },
            "type": "table"
           }
          ]
         },
         "layout": {
          "annotationdefaults": {
           "arrowhead": 0,
           "arrowwidth": 1
          },
          "autotypenumbers": "strict",
          "coloraxis": {
           "colorbar": {
            "outlinewidth": 1,
            "tickcolor": "rgb(36,36,36)",
            "ticks": "outside"
           }
          },
          "colorscale": {
           "diverging": [
            [
             0,
             "rgb(103,0,31)"
            ],
            [
             0.1,
             "rgb(178,24,43)"
            ],
            [
             0.2,
             "rgb(214,96,77)"
            ],
            [
             0.3,
             "rgb(244,165,130)"
            ],
            [
             0.4,
             "rgb(253,219,199)"
            ],
            [
             0.5,
             "rgb(247,247,247)"
            ],
            [
             0.6,
             "rgb(209,229,240)"
            ],
            [
             0.7,
             "rgb(146,197,222)"
            ],
            [
             0.8,
             "rgb(67,147,195)"
            ],
            [
             0.9,
             "rgb(33,102,172)"
            ],
            [
             1,
             "rgb(5,48,97)"
            ]
           ],
           "sequential": [
            [
             0,
             "#440154"
            ],
            [
             0.1111111111111111,
             "#482878"
            ],
            [
             0.2222222222222222,
             "#3e4989"
            ],
            [
             0.3333333333333333,
             "#31688e"
            ],
            [
             0.4444444444444444,
             "#26828e"
            ],
            [
             0.5555555555555556,
             "#1f9e89"
            ],
            [
             0.6666666666666666,
             "#35b779"
            ],
            [
             0.7777777777777778,
             "#6ece58"
            ],
            [
             0.8888888888888888,
             "#b5de2b"
            ],
            [
             1,
             "#fde725"
            ]
           ],
           "sequentialminus": [
            [
             0,
             "#440154"
            ],
            [
             0.1111111111111111,
             "#482878"
            ],
            [
             0.2222222222222222,
             "#3e4989"
            ],
            [
             0.3333333333333333,
             "#31688e"
            ],
            [
             0.4444444444444444,
             "#26828e"
            ],
            [
             0.5555555555555556,
             "#1f9e89"
            ],
            [
             0.6666666666666666,
             "#35b779"
            ],
            [
             0.7777777777777778,
             "#6ece58"
            ],
            [
             0.8888888888888888,
             "#b5de2b"
            ],
            [
             1,
             "#fde725"
            ]
           ]
          },
          "colorway": [
           "#1F77B4",
           "#FF7F0E",
           "#2CA02C",
           "#D62728",
           "#9467BD",
           "#8C564B",
           "#E377C2",
           "#7F7F7F",
           "#BCBD22",
           "#17BECF"
          ],
          "font": {
           "color": "rgb(36,36,36)"
          },
          "geo": {
           "bgcolor": "white",
           "lakecolor": "white",
           "landcolor": "white",
           "showlakes": true,
           "showland": true,
           "subunitcolor": "white"
          },
          "hoverlabel": {
           "align": "left"
          },
          "hovermode": "closest",
          "mapbox": {
           "style": "light"
          },
          "paper_bgcolor": "white",
          "plot_bgcolor": "white",
          "polar": {
           "angularaxis": {
            "gridcolor": "rgb(232,232,232)",
            "linecolor": "rgb(36,36,36)",
            "showgrid": false,
            "showline": true,
            "ticks": "outside"
           },
           "bgcolor": "white",
           "radialaxis": {
            "gridcolor": "rgb(232,232,232)",
            "linecolor": "rgb(36,36,36)",
            "showgrid": false,
            "showline": true,
            "ticks": "outside"
           }
          },
          "scene": {
           "xaxis": {
            "backgroundcolor": "white",
            "gridcolor": "rgb(232,232,232)",
            "gridwidth": 2,
            "linecolor": "rgb(36,36,36)",
            "showbackground": true,
            "showgrid": false,
            "showline": true,
            "ticks": "outside",
            "zeroline": false,
            "zerolinecolor": "rgb(36,36,36)"
           },
           "yaxis": {
            "backgroundcolor": "white",
            "gridcolor": "rgb(232,232,232)",
            "gridwidth": 2,
            "linecolor": "rgb(36,36,36)",
            "showbackground": true,
            "showgrid": false,
            "showline": true,
            "ticks": "outside",
            "zeroline": false,
            "zerolinecolor": "rgb(36,36,36)"
           },
           "zaxis": {
            "backgroundcolor": "white",
            "gridcolor": "rgb(232,232,232)",
            "gridwidth": 2,
            "linecolor": "rgb(36,36,36)",
            "showbackground": true,
            "showgrid": false,
            "showline": true,
            "ticks": "outside",
            "zeroline": false,
            "zerolinecolor": "rgb(36,36,36)"
           }
          },
          "shapedefaults": {
           "fillcolor": "black",
           "line": {
            "width": 0
           },
           "opacity": 0.3
          },
          "ternary": {
           "aaxis": {
            "gridcolor": "rgb(232,232,232)",
            "linecolor": "rgb(36,36,36)",
            "showgrid": false,
            "showline": true,
            "ticks": "outside"
           },
           "baxis": {
            "gridcolor": "rgb(232,232,232)",
            "linecolor": "rgb(36,36,36)",
            "showgrid": false,
            "showline": true,
            "ticks": "outside"
           },
           "bgcolor": "white",
           "caxis": {
            "gridcolor": "rgb(232,232,232)",
            "linecolor": "rgb(36,36,36)",
            "showgrid": false,
            "showline": true,
            "ticks": "outside"
           }
          },
          "title": {
           "x": 0.05
          },
          "xaxis": {
           "automargin": true,
           "gridcolor": "rgb(232,232,232)",
           "linecolor": "rgb(36,36,36)",
           "showgrid": false,
           "showline": true,
           "ticks": "outside",
           "title": {
            "standoff": 15
           },
           "zeroline": false,
           "zerolinecolor": "rgb(36,36,36)"
          },
          "yaxis": {
           "automargin": true,
           "gridcolor": "rgb(232,232,232)",
           "linecolor": "rgb(36,36,36)",
           "showgrid": false,
           "showline": true,
           "ticks": "outside",
           "title": {
            "standoff": 15
           },
           "zeroline": false,
           "zerolinecolor": "rgb(36,36,36)"
          }
         }
        },
        "title": {
         "text": "% of MAPE by prediction horizon",
         "x": 0.75
        },
        "width": 800,
        "xaxis": {
         "anchor": "y",
         "domain": [
          0,
          1
         ],
         "title": {
          "text": "MAPE %"
         }
        },
        "yaxis": {
         "anchor": "x",
         "domain": [
          0,
          1
         ],
         "title": {
          "text": "Target"
         }
        }
       }
      }
     },
     "metadata": {},
     "output_type": "display_data"
    }
   ],
   "source": [
    "fig = px.bar(scores_df, y='Target', x='MAPE %', title='% of MAPE by prediction horizon', \n",
    "            template='simple_white', width=800, height=600,\n",
    "            text=[f'{round(i*100,1)}%' for i in scores_df['MAPE']],\n",
    "            orientation='h')\n",
    "fig.update_layout(title_x=0.75, font_size=20)\n",
    "fig.update_traces(textfont_size=20)"
   ]
  },
  {
   "cell_type": "code",
   "execution_count": 18,
   "metadata": {},
   "outputs": [],
   "source": [
    "agg_feat = feature_importance.groupby(['Target', 'Feature'])['Coefficients'].sum().unstack().fillna(0)"
   ]
  },
  {
   "cell_type": "code",
   "execution_count": 19,
   "metadata": {},
   "outputs": [],
   "source": [
    "agg_feat.sort_values(by = ['Target'], ascending=False, inplace=True)"
   ]
  },
  {
   "cell_type": "code",
   "execution_count": 20,
   "metadata": {},
   "outputs": [
    {
     "data": {
      "text/html": [
       "<div>\n",
       "<style scoped>\n",
       "    .dataframe tbody tr th:only-of-type {\n",
       "        vertical-align: middle;\n",
       "    }\n",
       "\n",
       "    .dataframe tbody tr th {\n",
       "        vertical-align: top;\n",
       "    }\n",
       "\n",
       "    .dataframe thead th {\n",
       "        text-align: right;\n",
       "    }\n",
       "</style>\n",
       "<table border=\"1\" class=\"dataframe\">\n",
       "  <thead>\n",
       "    <tr style=\"text-align: right;\">\n",
       "      <th>Feature</th>\n",
       "      <th>lag_1</th>\n",
       "      <th>lag_2</th>\n",
       "      <th>lag_3</th>\n",
       "      <th>lag_4</th>\n",
       "      <th>rolling_mean_7</th>\n",
       "    </tr>\n",
       "    <tr>\n",
       "      <th>Target</th>\n",
       "      <th></th>\n",
       "      <th></th>\n",
       "      <th></th>\n",
       "      <th></th>\n",
       "      <th></th>\n",
       "    </tr>\n",
       "  </thead>\n",
       "  <tbody>\n",
       "    <tr>\n",
       "      <th>D+7</th>\n",
       "      <td>0.000000</td>\n",
       "      <td>0.000000</td>\n",
       "      <td>0.000000</td>\n",
       "      <td>0.000000</td>\n",
       "      <td>0.787599</td>\n",
       "    </tr>\n",
       "    <tr>\n",
       "      <th>D+6</th>\n",
       "      <td>0.953053</td>\n",
       "      <td>0.000000</td>\n",
       "      <td>0.000000</td>\n",
       "      <td>0.000000</td>\n",
       "      <td>0.000000</td>\n",
       "    </tr>\n",
       "    <tr>\n",
       "      <th>D+5</th>\n",
       "      <td>0.000000</td>\n",
       "      <td>0.946425</td>\n",
       "      <td>0.000000</td>\n",
       "      <td>0.000000</td>\n",
       "      <td>0.010926</td>\n",
       "    </tr>\n",
       "    <tr>\n",
       "      <th>D+4</th>\n",
       "      <td>0.000000</td>\n",
       "      <td>0.000000</td>\n",
       "      <td>0.895162</td>\n",
       "      <td>0.000000</td>\n",
       "      <td>0.064806</td>\n",
       "    </tr>\n",
       "    <tr>\n",
       "      <th>D+3</th>\n",
       "      <td>0.000000</td>\n",
       "      <td>0.000000</td>\n",
       "      <td>0.000000</td>\n",
       "      <td>0.708393</td>\n",
       "      <td>0.254618</td>\n",
       "    </tr>\n",
       "    <tr>\n",
       "      <th>D+2</th>\n",
       "      <td>0.000000</td>\n",
       "      <td>0.000000</td>\n",
       "      <td>0.000000</td>\n",
       "      <td>0.000000</td>\n",
       "      <td>0.884826</td>\n",
       "    </tr>\n",
       "    <tr>\n",
       "      <th>D+1</th>\n",
       "      <td>0.000000</td>\n",
       "      <td>0.000000</td>\n",
       "      <td>0.000000</td>\n",
       "      <td>0.000000</td>\n",
       "      <td>0.935270</td>\n",
       "    </tr>\n",
       "  </tbody>\n",
       "</table>\n",
       "</div>"
      ],
      "text/plain": [
       "Feature     lag_1     lag_2     lag_3     lag_4  rolling_mean_7\n",
       "Target                                                         \n",
       "D+7      0.000000  0.000000  0.000000  0.000000        0.787599\n",
       "D+6      0.953053  0.000000  0.000000  0.000000        0.000000\n",
       "D+5      0.000000  0.946425  0.000000  0.000000        0.010926\n",
       "D+4      0.000000  0.000000  0.895162  0.000000        0.064806\n",
       "D+3      0.000000  0.000000  0.000000  0.708393        0.254618\n",
       "D+2      0.000000  0.000000  0.000000  0.000000        0.884826\n",
       "D+1      0.000000  0.000000  0.000000  0.000000        0.935270"
      ]
     },
     "metadata": {},
     "output_type": "display_data"
    }
   ],
   "source": [
    "display(agg_feat)"
   ]
  },
  {
   "cell_type": "code",
   "execution_count": 21,
   "metadata": {},
   "outputs": [
    {
     "data": {
      "image/png": "[encoded data removed]",
      "text/plain": [
       "<Figure size 2000x700 with 2 Axes>"
      ]
     },
     "metadata": {},
     "output_type": "display_data"
    }
   ],
   "source": [
    "fig, axis = plt.subplots()\n",
    "\n",
    "heatmap = axis.pcolor(agg_feat, cmap=plt.cm.Blues)\n",
    "fig.colorbar(heatmap)\n",
    "\n",
    "fig.set_size_inches(20, 7)\n",
    "\n",
    "#axis.set_title(\"Feature importance in the predictions at day + ...\", size = 20)\n",
    "axis.invert_yaxis()\n",
    "\n",
    "axis.set_xticklabels('') #hide major tick labels\n",
    "axis.set_xticks([0.5,1.5,2.5,3.5,4.5], minor=True)\n",
    "axis.set_xticklabels([\"lag 1\", \"lag 2\", \"lag 3\", \"lag 4\", \"rolling mean 7\"], minor = True)\n",
    "\n",
    "axis.set_yticklabels('') #hide major tick labels\n",
    "axis.set_yticks([0.5,1.5,2.5,3.5,4.5,5.5, 6.5], minor=True)\n",
    "axis.set_yticklabels([\"D+7\", \"D+6\", \"D+5\", \"D+4\", \"D+3\", \"D+2\", \"D+1\"], minor = True)\n",
    "\n",
    "axis.tick_params(axis='both', which='minor', labelsize=20)\n",
    "\n",
    "plt.show()"
   ]
  }
 ],
 "metadata": {
  "kernelspec": {
   "display_name": "Python 3",
   "language": "python",
   "name": "python3"
  },
  "language_info": {
   "codemirror_mode": {
    "name": "ipython",
    "version": 3
   },
   "file_extension": ".py",
   "mimetype": "text/x-python",
   "name": "python",
   "nbconvert_exporter": "python",
   "pygments_lexer": "ipython3",
   "version": "3.10.7"
  },
  "orig_nbformat": 4,
  "vscode": {
   "interpreter": {
    "hash": "aee8b7b246df8f9039afb4144a1f6fd8d2ca17a180786b69acc140d282b71a49"
   }
  }
 },
 "nbformat": 4,
 "nbformat_minor": 2
}
