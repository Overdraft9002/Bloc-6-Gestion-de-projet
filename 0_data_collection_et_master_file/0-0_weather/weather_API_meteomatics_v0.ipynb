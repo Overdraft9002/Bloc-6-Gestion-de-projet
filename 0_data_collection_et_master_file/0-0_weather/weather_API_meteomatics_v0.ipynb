{
 "cells": [
  {
   "attachments": {},
   "cell_type": "markdown",
   "metadata": {},
   "source": [
    "# API https://open-meteo.com/en/docs/historical-weather-api#api_form"
   ]
  },
  {
   "cell_type": "code",
   "execution_count": null,
   "metadata": {},
   "outputs": [],
   "source": [
    "import requests\n",
    "import pandas as pd"
   ]
  },
  {
   "attachments": {},
   "cell_type": "markdown",
   "metadata": {},
   "source": [
    "## Lat and lon"
   ]
  },
  {
   "cell_type": "code",
   "execution_count": null,
   "metadata": {},
   "outputs": [],
   "source": [
    "coord = pd.read_excel(\"df_pref_coord.xlsx\")"
   ]
  },
  {
   "cell_type": "code",
   "execution_count": null,
   "metadata": {},
   "outputs": [],
   "source": [
    "coord.head()"
   ]
  },
  {
   "attachments": {},
   "cell_type": "markdown",
   "metadata": {},
   "source": [
    "## API request"
   ]
  },
  {
   "cell_type": "code",
   "execution_count": null,
   "metadata": {},
   "outputs": [],
   "source": [
    "resp = []\n",
    "lat = coord[\"lat\"]\n",
    "lon = coord[\"lon\"]\n",
    "\n",
    "for l in range(len(coord)):\n",
    "    response_weather = requests.get(f\"https://archive-api.open-meteo.com/v1/archive?latitude={lat[l]}3&longitude={lon[l]}&start_date=2013-01-01&end_date=2023-01-08&daily=weathercode,temperature_2m_max,temperature_2m_min,sunrise,sunset,shortwave_radiation_sum,precipitation_sum,windspeed_10m_max&timezone=Europe%2FBerlin\")\n",
    "    \n",
    "    if response_weather.status_code == 200:\n",
    "            resp.append(response_weather.json())\n",
    "    else: \n",
    "            print(\"Request to {} failed\".format(l))"
   ]
  },
  {
   "cell_type": "code",
   "execution_count": null,
   "metadata": {},
   "outputs": [],
   "source": [
    "resp"
   ]
  },
  {
   "cell_type": "code",
   "execution_count": null,
   "metadata": {},
   "outputs": [],
   "source": [
    "weather_info = []\n",
    "\n",
    "for n in range(len(coord)):\n",
    "    weather_data = [resp[n][\"latitude\"], \n",
    "            resp[n][\"longitude\"],\n",
    "            resp[n][\"daily\"][\"time\"],\n",
    "            resp[n][\"daily\"][\"weathercode\"],\n",
    "            resp[n][\"daily\"][\"temperature_2m_max\"],\n",
    "            resp[n][\"daily\"][\"temperature_2m_min\"],\n",
    "            resp[n][\"daily\"][\"shortwave_radiation_sum\"],\n",
    "            resp[n][\"daily\"][\"precipitation_sum\"],\n",
    "            resp[n][\"daily\"][\"windspeed_10m_max\"]]\n",
    "    weather_info.append(weather_data)\n",
    "weather_info"
   ]
  },
  {
   "attachments": {},
   "cell_type": "markdown",
   "metadata": {},
   "source": [
    "## to dataframe"
   ]
  },
  {
   "cell_type": "code",
   "execution_count": null,
   "metadata": {},
   "outputs": [],
   "source": [
    "weather_df = pd.DataFrame(data=weather_info)"
   ]
  },
  {
   "cell_type": "code",
   "execution_count": null,
   "metadata": {},
   "outputs": [],
   "source": [
    "weather_df"
   ]
  },
  {
   "cell_type": "code",
   "execution_count": null,
   "metadata": {},
   "outputs": [],
   "source": [
    "weather_df[\"cities\"] = coord[\"cities\"]\n",
    "weather_df[\"code_region\"] = coord[\"code_region\"]\n",
    "weather_df[\"region_nom\"] = coord[\"region_nom\"]\n",
    "weather_df[\"depart_num\"] = coord[\"depart_num\"]\n",
    "weather_df[\"depart_nom\"] = coord[\"depart_nom\"]\n",
    "weather_df.head()"
   ]
  },
  {
   "cell_type": "code",
   "execution_count": null,
   "metadata": {},
   "outputs": [],
   "source": [
    "weather = weather_df.explode(column = [2, 3, 4, 5, 6, 7, 8])"
   ]
  },
  {
   "cell_type": "code",
   "execution_count": null,
   "metadata": {},
   "outputs": [],
   "source": [
    "weather = weather.rename(columns = {0:\"lat\", 1:\"lon\", 2: \"time\", 3:\"weathercode\", 4: \"temp_max\", 5: \"temp_min\", 6: \"hours_of_sun\", 7:\"precipitation\", 8:\"windspeed\" })\n",
    "weather = weather.reset_index(drop = True)\n",
    "weather.head()"
   ]
  },
  {
   "cell_type": "code",
   "execution_count": null,
   "metadata": {},
   "outputs": [],
   "source": [
    "# Basic stats\n",
    "print(\"Number of rows : {}\".format(weather.shape[0]))\n",
    "print()\n",
    "\n",
    "print(\"Display of dataset: \")\n",
    "display(weather.head())\n",
    "print()\n",
    "\n",
    "print(\"Basics statistics: \")\n",
    "data_desc = weather.describe(include='all')\n",
    "display(data_desc)\n",
    "print()\n",
    "\n",
    "print(\"Percentage of missing values: \")\n",
    "display(100*weather.isnull().sum()/weather.shape[0])\n",
    "\n",
    "print(\"count different datatypes: \")\n",
    "weather.dtypes.value_counts()\n"
   ]
  },
  {
   "cell_type": "code",
   "execution_count": null,
   "metadata": {},
   "outputs": [],
   "source": [
    "weather[weather[\"weathercode\"].isnull()]"
   ]
  },
  {
   "attachments": {},
   "cell_type": "markdown",
   "metadata": {},
   "source": [
    "- missing data from Jan 4th to jan 8th 2023"
   ]
  },
  {
   "attachments": {},
   "cell_type": "markdown",
   "metadata": {},
   "source": [
    "## preparing for merge with other elements"
   ]
  },
  {
   "attachments": {},
   "cell_type": "markdown",
   "metadata": {},
   "source": [
    "### Aggregation at Region level"
   ]
  },
  {
   "cell_type": "code",
   "execution_count": null,
   "metadata": {},
   "outputs": [],
   "source": [
    "agg_dict = {\"temp_max\": \"mean\", \"temp_min\": \"mean\", \"hours_of_sun\":\"mean\", \"precipitation\":\"mean\", \"windspeed\": \"mean\", \"region_nom\": \"max\" }\n",
    "weather_def = weather.groupby(by = [\"code_region\",\"time\"]).agg(agg_dict)\n"
   ]
  },
  {
   "cell_type": "code",
   "execution_count": null,
   "metadata": {},
   "outputs": [],
   "source": [
    "weather_def.head()"
   ]
  },
  {
   "cell_type": "code",
   "execution_count": null,
   "metadata": {},
   "outputs": [],
   "source": [
    "weather_def.shape"
   ]
  },
  {
   "cell_type": "code",
   "execution_count": null,
   "metadata": {},
   "outputs": [],
   "source": [
    "weather_def = weather_def.reset_index()\n",
    "weather_def.head()"
   ]
  },
  {
   "cell_type": "code",
   "execution_count": null,
   "metadata": {},
   "outputs": [],
   "source": [
    "weather_def.columns"
   ]
  },
  {
   "attachments": {},
   "cell_type": "markdown",
   "metadata": {},
   "source": [
    "Adding a field for merge with other file"
   ]
  },
  {
   "cell_type": "code",
   "execution_count": null,
   "metadata": {},
   "outputs": [],
   "source": [
    "weather_def[\"key\"] = weather_def[\"time\"].astype(str) + weather_def[\"code_region\"].astype(str)"
   ]
  },
  {
   "cell_type": "code",
   "execution_count": null,
   "metadata": {},
   "outputs": [],
   "source": [
    "weather_def.head()"
   ]
  },
  {
   "cell_type": "code",
   "execution_count": null,
   "metadata": {},
   "outputs": [],
   "source": [
    "weather_def.to_csv(\"weather.csv\")"
   ]
  },
  {
   "cell_type": "code",
   "execution_count": null,
   "metadata": {},
   "outputs": [],
   "source": [
    "weather_def.shape"
   ]
  },
  {
   "cell_type": "code",
   "execution_count": null,
   "metadata": {},
   "outputs": [],
   "source": []
  }
 ],
 "metadata": {
  "kernelspec": {
   "display_name": "base",
   "language": "python",
   "name": "python3"
  },
  "language_info": {
   "codemirror_mode": {
    "name": "ipython",
    "version": 3
   },
   "file_extension": ".py",
   "mimetype": "text/x-python",
   "name": "python",
   "nbconvert_exporter": "python",
   "pygments_lexer": "ipython3",
   "version": "3.9.12"
  },
  "orig_nbformat": 4,
  "vscode": {
   "interpreter": {
    "hash": "97c4e014875b030add4f536672f79237a6bf38a70c488007e24290b7018f735b"
   }
  }
 },
 "nbformat": 4,
 "nbformat_minor": 2
}
